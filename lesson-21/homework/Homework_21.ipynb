{
 "cells": [
  {
   "cell_type": "code",
   "execution_count": 1,
   "metadata": {},
   "outputs": [
    {
     "name": "stdout",
     "output_type": "stream",
     "text": [
      "   Employee_ID     Name Department  Salary  Experience (Years)\n",
      "0          101    Alice         HR   60000                   3\n",
      "1          102      Bob         IT   75000                   5\n",
      "2          103  Charlie  Marketing   65000                   2\n",
      "3          104    David         IT   80000                   8\n",
      "4          105     Emma    Finance   70000                   4\n",
      "5          106    Frank         HR   72000                   6\n",
      "6          107    Grace  Marketing   68000                   3\n",
      "7          108     Hank         IT   78000                   7\n",
      "8          109      Ivy    Finance   69000                   2\n",
      "9          110     Jack  Marketing   76000                   5\n"
     ]
    }
   ],
   "source": [
    "import pandas as pd\n",
    "\n",
    "data3 = {\n",
    "    'Employee_ID': [101, 102, 103, 104, 105, 106, 107, 108, 109, 110],\n",
    "    'Name': ['Alice', 'Bob', 'Charlie', 'David', 'Emma', 'Frank', 'Grace', 'Hank', 'Ivy', 'Jack'],\n",
    "    'Department': ['HR', 'IT', 'Marketing', 'IT', 'Finance', 'HR', 'Marketing', 'IT', 'Finance', 'Marketing'],\n",
    "    'Salary': [60000, 75000, 65000, 80000, 70000, 72000, 68000, 78000, 69000, 76000],\n",
    "    'Experience (Years)': [3, 5, 2, 8, 4, 6, 3, 7, 2, 5]\n",
    "}\n",
    "\n",
    "df = pd.DataFrame(data3)\n",
    "print(df)\n"
   ]
  },
  {
   "cell_type": "code",
   "execution_count": 2,
   "metadata": {},
   "outputs": [
    {
     "name": "stdout",
     "output_type": "stream",
     "text": [
      "Department\n",
      "Finance      69500\n",
      "HR           66000\n",
      "IT           77666\n",
      "Marketing    69666\n",
      "Name: Salary, dtype: int64\n"
     ]
    }
   ],
   "source": [
    "#1\n",
    "avg = (df.groupby('Department')['Salary'].agg('mean')).astype(int)\n",
    "print(avg)"
   ]
  },
  {
   "cell_type": "code",
   "execution_count": 3,
   "metadata": {},
   "outputs": [
    {
     "data": {
      "text/html": [
       "<div>\n",
       "<style scoped>\n",
       "    .dataframe tbody tr th:only-of-type {\n",
       "        vertical-align: middle;\n",
       "    }\n",
       "\n",
       "    .dataframe tbody tr th {\n",
       "        vertical-align: top;\n",
       "    }\n",
       "\n",
       "    .dataframe thead th {\n",
       "        text-align: right;\n",
       "    }\n",
       "</style>\n",
       "<table border=\"1\" class=\"dataframe\">\n",
       "  <thead>\n",
       "    <tr style=\"text-align: right;\">\n",
       "      <th></th>\n",
       "      <th>Employee_ID</th>\n",
       "      <th>Name</th>\n",
       "      <th>Department</th>\n",
       "      <th>Salary</th>\n",
       "      <th>Experience (Years)</th>\n",
       "    </tr>\n",
       "  </thead>\n",
       "  <tbody>\n",
       "    <tr>\n",
       "      <th>3</th>\n",
       "      <td>104</td>\n",
       "      <td>David</td>\n",
       "      <td>IT</td>\n",
       "      <td>80000</td>\n",
       "      <td>8</td>\n",
       "    </tr>\n",
       "  </tbody>\n",
       "</table>\n",
       "</div>"
      ],
      "text/plain": [
       "   Employee_ID   Name Department  Salary  Experience (Years)\n",
       "3          104  David         IT   80000                   8"
      ]
     },
     "execution_count": 3,
     "metadata": {},
     "output_type": "execute_result"
    }
   ],
   "source": [
    "#2\n",
    "exp = df.sort_values(by='Experience (Years)', ascending = False).head(1)\n",
    "exp"
   ]
  },
  {
   "cell_type": "code",
   "execution_count": 7,
   "metadata": {},
   "outputs": [
    {
     "data": {
      "image/png": "[encoded data removed]",
      "text/plain": [
       "<Figure size 640x480 with 1 Axes>"
      ]
     },
     "metadata": {},
     "output_type": "display_data"
    }
   ],
   "source": [
    "#3\n",
    "import matplotlib.pyplot as plt\n",
    "dep_val = df['Department'].value_counts()\n",
    "x = dep_val.index\n",
    "y = dep_val.values\n",
    "colors = ['Red', 'Blue', 'Green', 'Yellow']\n",
    "plt.bar(x, y, color = [c for c in colors])\n",
    "plt.show()"
   ]
  },
  {
   "cell_type": "code",
   "execution_count": 1,
   "metadata": {},
   "outputs": [],
   "source": [
    "import pandas as pd\n",
    "import matplotlib.pyplot as plt\n",
    "data1 = {\n",
    "    'Student_ID': [1, 2, 3, 4, 5, 6, 7, 8, 9, 10],\n",
    "    'Math': [85, 90, 78, 92, 88, 95, 89, 79, 83, 91],\n",
    "    'English': [78, 85, 88, 80, 92, 87, 90, 84, 79, 88],\n",
    "    'Science': [90, 92, 85, 88, 94, 79, 83, 91, 87, 89]\n",
    "}\n",
    "df = pd.DataFrame(data1)"
   ]
  },
  {
   "cell_type": "code",
   "execution_count": 3,
   "metadata": {},
   "outputs": [
    {
     "data": {
      "text/html": [
       "<div>\n",
       "<style scoped>\n",
       "    .dataframe tbody tr th:only-of-type {\n",
       "        vertical-align: middle;\n",
       "    }\n",
       "\n",
       "    .dataframe tbody tr th {\n",
       "        vertical-align: top;\n",
       "    }\n",
       "\n",
       "    .dataframe thead th {\n",
       "        text-align: right;\n",
       "    }\n",
       "</style>\n",
       "<table border=\"1\" class=\"dataframe\">\n",
       "  <thead>\n",
       "    <tr style=\"text-align: right;\">\n",
       "      <th></th>\n",
       "      <th>Student_ID</th>\n",
       "      <th>Math</th>\n",
       "      <th>English</th>\n",
       "      <th>Science</th>\n",
       "      <th>Average</th>\n",
       "    </tr>\n",
       "  </thead>\n",
       "  <tbody>\n",
       "    <tr>\n",
       "      <th>0</th>\n",
       "      <td>1</td>\n",
       "      <td>85</td>\n",
       "      <td>78</td>\n",
       "      <td>90</td>\n",
       "      <td>84</td>\n",
       "    </tr>\n",
       "    <tr>\n",
       "      <th>1</th>\n",
       "      <td>2</td>\n",
       "      <td>90</td>\n",
       "      <td>85</td>\n",
       "      <td>92</td>\n",
       "      <td>89</td>\n",
       "    </tr>\n",
       "    <tr>\n",
       "      <th>2</th>\n",
       "      <td>3</td>\n",
       "      <td>78</td>\n",
       "      <td>88</td>\n",
       "      <td>85</td>\n",
       "      <td>83</td>\n",
       "    </tr>\n",
       "    <tr>\n",
       "      <th>3</th>\n",
       "      <td>4</td>\n",
       "      <td>92</td>\n",
       "      <td>80</td>\n",
       "      <td>88</td>\n",
       "      <td>86</td>\n",
       "    </tr>\n",
       "    <tr>\n",
       "      <th>4</th>\n",
       "      <td>5</td>\n",
       "      <td>88</td>\n",
       "      <td>92</td>\n",
       "      <td>94</td>\n",
       "      <td>91</td>\n",
       "    </tr>\n",
       "    <tr>\n",
       "      <th>5</th>\n",
       "      <td>6</td>\n",
       "      <td>95</td>\n",
       "      <td>87</td>\n",
       "      <td>79</td>\n",
       "      <td>87</td>\n",
       "    </tr>\n",
       "    <tr>\n",
       "      <th>6</th>\n",
       "      <td>7</td>\n",
       "      <td>89</td>\n",
       "      <td>90</td>\n",
       "      <td>83</td>\n",
       "      <td>87</td>\n",
       "    </tr>\n",
       "    <tr>\n",
       "      <th>7</th>\n",
       "      <td>8</td>\n",
       "      <td>79</td>\n",
       "      <td>84</td>\n",
       "      <td>91</td>\n",
       "      <td>84</td>\n",
       "    </tr>\n",
       "    <tr>\n",
       "      <th>8</th>\n",
       "      <td>9</td>\n",
       "      <td>83</td>\n",
       "      <td>79</td>\n",
       "      <td>87</td>\n",
       "      <td>83</td>\n",
       "    </tr>\n",
       "    <tr>\n",
       "      <th>9</th>\n",
       "      <td>10</td>\n",
       "      <td>91</td>\n",
       "      <td>88</td>\n",
       "      <td>89</td>\n",
       "      <td>89</td>\n",
       "    </tr>\n",
       "  </tbody>\n",
       "</table>\n",
       "</div>"
      ],
      "text/plain": [
       "   Student_ID  Math  English  Science  Average\n",
       "0           1    85       78       90       84\n",
       "1           2    90       85       92       89\n",
       "2           3    78       88       85       83\n",
       "3           4    92       80       88       86\n",
       "4           5    88       92       94       91\n",
       "5           6    95       87       79       87\n",
       "6           7    89       90       83       87\n",
       "7           8    79       84       91       84\n",
       "8           9    83       79       87       83\n",
       "9          10    91       88       89       89"
      ]
     },
     "execution_count": 3,
     "metadata": {},
     "output_type": "execute_result"
    }
   ],
   "source": [
    "#1\n",
    "df['Average'] = ((df['Math'] + df['English'] + df['Science'])/3).astype(int)\n",
    "df"
   ]
  },
  {
   "cell_type": "code",
   "execution_count": 4,
   "metadata": {},
   "outputs": [
    {
     "data": {
      "text/html": [
       "<div>\n",
       "<style scoped>\n",
       "    .dataframe tbody tr th:only-of-type {\n",
       "        vertical-align: middle;\n",
       "    }\n",
       "\n",
       "    .dataframe tbody tr th {\n",
       "        vertical-align: top;\n",
       "    }\n",
       "\n",
       "    .dataframe thead th {\n",
       "        text-align: right;\n",
       "    }\n",
       "</style>\n",
       "<table border=\"1\" class=\"dataframe\">\n",
       "  <thead>\n",
       "    <tr style=\"text-align: right;\">\n",
       "      <th></th>\n",
       "      <th>Student_ID</th>\n",
       "      <th>Math</th>\n",
       "      <th>English</th>\n",
       "      <th>Science</th>\n",
       "      <th>Average</th>\n",
       "    </tr>\n",
       "  </thead>\n",
       "  <tbody>\n",
       "    <tr>\n",
       "      <th>4</th>\n",
       "      <td>5</td>\n",
       "      <td>88</td>\n",
       "      <td>92</td>\n",
       "      <td>94</td>\n",
       "      <td>91</td>\n",
       "    </tr>\n",
       "  </tbody>\n",
       "</table>\n",
       "</div>"
      ],
      "text/plain": [
       "   Student_ID  Math  English  Science  Average\n",
       "4           5    88       92       94       91"
      ]
     },
     "execution_count": 4,
     "metadata": {},
     "output_type": "execute_result"
    }
   ],
   "source": [
    "#2\n",
    "df_sorted = df.sort_values(by = 'Average', ascending = False).head(1)\n",
    "df_sorted"
   ]
  },
  {
   "cell_type": "code",
   "execution_count": 5,
   "metadata": {},
   "outputs": [
    {
     "data": {
      "text/html": [
       "<div>\n",
       "<style scoped>\n",
       "    .dataframe tbody tr th:only-of-type {\n",
       "        vertical-align: middle;\n",
       "    }\n",
       "\n",
       "    .dataframe tbody tr th {\n",
       "        vertical-align: top;\n",
       "    }\n",
       "\n",
       "    .dataframe thead th {\n",
       "        text-align: right;\n",
       "    }\n",
       "</style>\n",
       "<table border=\"1\" class=\"dataframe\">\n",
       "  <thead>\n",
       "    <tr style=\"text-align: right;\">\n",
       "      <th></th>\n",
       "      <th>Student_ID</th>\n",
       "      <th>Math</th>\n",
       "      <th>English</th>\n",
       "      <th>Science</th>\n",
       "      <th>Average</th>\n",
       "      <th>Total</th>\n",
       "    </tr>\n",
       "  </thead>\n",
       "  <tbody>\n",
       "    <tr>\n",
       "      <th>0</th>\n",
       "      <td>1</td>\n",
       "      <td>85</td>\n",
       "      <td>78</td>\n",
       "      <td>90</td>\n",
       "      <td>84</td>\n",
       "      <td>253</td>\n",
       "    </tr>\n",
       "    <tr>\n",
       "      <th>1</th>\n",
       "      <td>2</td>\n",
       "      <td>90</td>\n",
       "      <td>85</td>\n",
       "      <td>92</td>\n",
       "      <td>89</td>\n",
       "      <td>267</td>\n",
       "    </tr>\n",
       "    <tr>\n",
       "      <th>2</th>\n",
       "      <td>3</td>\n",
       "      <td>78</td>\n",
       "      <td>88</td>\n",
       "      <td>85</td>\n",
       "      <td>83</td>\n",
       "      <td>251</td>\n",
       "    </tr>\n",
       "    <tr>\n",
       "      <th>3</th>\n",
       "      <td>4</td>\n",
       "      <td>92</td>\n",
       "      <td>80</td>\n",
       "      <td>88</td>\n",
       "      <td>86</td>\n",
       "      <td>260</td>\n",
       "    </tr>\n",
       "    <tr>\n",
       "      <th>4</th>\n",
       "      <td>5</td>\n",
       "      <td>88</td>\n",
       "      <td>92</td>\n",
       "      <td>94</td>\n",
       "      <td>91</td>\n",
       "      <td>274</td>\n",
       "    </tr>\n",
       "    <tr>\n",
       "      <th>5</th>\n",
       "      <td>6</td>\n",
       "      <td>95</td>\n",
       "      <td>87</td>\n",
       "      <td>79</td>\n",
       "      <td>87</td>\n",
       "      <td>261</td>\n",
       "    </tr>\n",
       "    <tr>\n",
       "      <th>6</th>\n",
       "      <td>7</td>\n",
       "      <td>89</td>\n",
       "      <td>90</td>\n",
       "      <td>83</td>\n",
       "      <td>87</td>\n",
       "      <td>262</td>\n",
       "    </tr>\n",
       "    <tr>\n",
       "      <th>7</th>\n",
       "      <td>8</td>\n",
       "      <td>79</td>\n",
       "      <td>84</td>\n",
       "      <td>91</td>\n",
       "      <td>84</td>\n",
       "      <td>254</td>\n",
       "    </tr>\n",
       "    <tr>\n",
       "      <th>8</th>\n",
       "      <td>9</td>\n",
       "      <td>83</td>\n",
       "      <td>79</td>\n",
       "      <td>87</td>\n",
       "      <td>83</td>\n",
       "      <td>249</td>\n",
       "    </tr>\n",
       "    <tr>\n",
       "      <th>9</th>\n",
       "      <td>10</td>\n",
       "      <td>91</td>\n",
       "      <td>88</td>\n",
       "      <td>89</td>\n",
       "      <td>89</td>\n",
       "      <td>268</td>\n",
       "    </tr>\n",
       "  </tbody>\n",
       "</table>\n",
       "</div>"
      ],
      "text/plain": [
       "   Student_ID  Math  English  Science  Average  Total\n",
       "0           1    85       78       90       84    253\n",
       "1           2    90       85       92       89    267\n",
       "2           3    78       88       85       83    251\n",
       "3           4    92       80       88       86    260\n",
       "4           5    88       92       94       91    274\n",
       "5           6    95       87       79       87    261\n",
       "6           7    89       90       83       87    262\n",
       "7           8    79       84       91       84    254\n",
       "8           9    83       79       87       83    249\n",
       "9          10    91       88       89       89    268"
      ]
     },
     "execution_count": 5,
     "metadata": {},
     "output_type": "execute_result"
    }
   ],
   "source": [
    "#3\n",
    "df['Total'] = df['Math'] + df['English'] + df['Science']\n",
    "df"
   ]
  },
  {
   "cell_type": "code",
   "execution_count": 6,
   "metadata": {},
   "outputs": [
    {
     "data": {
      "image/png": "[encoded data removed]",
      "text/plain": [
       "<Figure size 640x480 with 1 Axes>"
      ]
     },
     "metadata": {},
     "output_type": "display_data"
    }
   ],
   "source": [
    "x = df['Student_ID']\n",
    "y = df['Average']\n",
    "plt.bar(x, y, width = 0.5)\n",
    "plt.xticks(df['Student_ID'])\n",
    "plt.show()\n"
   ]
  },
  {
   "cell_type": "code",
   "execution_count": 7,
   "metadata": {},
   "outputs": [],
   "source": [
    "import pandas as pd\n",
    "import matplotlib.pyplot as plt\n",
    "data2 = {\n",
    "    'Date': pd.date_range(start='2023-01-01', periods=10),\n",
    "    'Product_A': [120, 150, 130, 110, 140, 160, 135, 125, 145, 155],\n",
    "    'Product_B': [90, 110, 100, 80, 95, 105, 98, 88, 102, 112],\n",
    "    'Product_C': [75, 80, 85, 70, 88, 92, 78, 82, 87, 90]\n",
    "}\n",
    "df1 = pd.DataFrame(data2)"
   ]
  },
  {
   "cell_type": "code",
   "execution_count": 8,
   "metadata": {},
   "outputs": [
    {
     "name": "stdout",
     "output_type": "stream",
     "text": [
      "Product_A    1370\n",
      "Product_B     980\n",
      "Product_C     827\n",
      "dtype: int64\n"
     ]
    }
   ],
   "source": [
    "#1\n",
    "df_sum = df1[['Product_A', 'Product_B', 'Product_C']].sum()\n",
    "print(df_sum)"
   ]
  },
  {
   "cell_type": "code",
   "execution_count": 9,
   "metadata": {},
   "outputs": [
    {
     "name": "stdout",
     "output_type": "stream",
     "text": [
      "        Date  Product_A  Product_B  Product_C  Total\n",
      "0 2023-01-01        120         90         75    285\n",
      "1 2023-01-02        150        110         80    340\n",
      "2 2023-01-03        130        100         85    315\n",
      "3 2023-01-04        110         80         70    260\n",
      "4 2023-01-05        140         95         88    323\n",
      "5 2023-01-06        160        105         92    357\n",
      "6 2023-01-07        135         98         78    311\n",
      "7 2023-01-08        125         88         82    295\n",
      "8 2023-01-09        145        102         87    334\n",
      "9 2023-01-10        155        112         90    357\n",
      "        Date  Product_A  Product_B  Product_C  Total\n",
      "9 2023-01-10        155        112         90    357\n",
      "5 2023-01-06        160        105         92    357\n"
     ]
    }
   ],
   "source": [
    "#2\n",
    "df1['Total'] = df1['Product_A'] + df1['Product_B'] + df1['Product_C']\n",
    "print(df1)\n",
    "df_max = df1.sort_values(by = 'Total', ascending = False).head(2)\n",
    "print(df_max)"
   ]
  },
  {
   "cell_type": "code",
   "execution_count": 10,
   "metadata": {},
   "outputs": [
    {
     "data": {
      "image/png": "[encoded data removed]",
      "text/plain": [
       "<Figure size 640x480 with 1 Axes>"
      ]
     },
     "metadata": {},
     "output_type": "display_data"
    }
   ],
   "source": [
    "#4\n",
    "x = df1['Date']\n",
    "y1 = df1['Product_A']\n",
    "y2 = df1['Product_B']\n",
    "y3 = df1['Product_C']\n",
    "plt.plot(x, y1, c = 'r', marker = 'o',label = 'Product_A', linestyle = '-.')\n",
    "plt.plot(x, y2, c = 'k', marker = 'o',label = 'Product_B', linestyle = ':')\n",
    "plt.plot(x, y3, c = 'b', marker = 'o', label = 'Product_C')\n",
    "plt.xlabel('Dates')\n",
    "plt.ylabel('The number of products')\n",
    "plt.title('Sales')\n",
    "plt.yticks(range(10, 170, 10))\n",
    "plt.legend()\n",
    "plt.show()"
   ]
  },
  {
   "cell_type": "code",
   "execution_count": 11,
   "metadata": {},
   "outputs": [
    {
     "data": {
      "text/html": [
       "<div>\n",
       "<style scoped>\n",
       "    .dataframe tbody tr th:only-of-type {\n",
       "        vertical-align: middle;\n",
       "    }\n",
       "\n",
       "    .dataframe tbody tr th {\n",
       "        vertical-align: top;\n",
       "    }\n",
       "\n",
       "    .dataframe thead th {\n",
       "        text-align: right;\n",
       "    }\n",
       "</style>\n",
       "<table border=\"1\" class=\"dataframe\">\n",
       "  <thead>\n",
       "    <tr style=\"text-align: right;\">\n",
       "      <th></th>\n",
       "      <th>Order_ID</th>\n",
       "      <th>Customer_ID</th>\n",
       "      <th>Product</th>\n",
       "      <th>Quantity</th>\n",
       "      <th>Total_Price</th>\n",
       "    </tr>\n",
       "  </thead>\n",
       "  <tbody>\n",
       "    <tr>\n",
       "      <th>0</th>\n",
       "      <td>101</td>\n",
       "      <td>201</td>\n",
       "      <td>A</td>\n",
       "      <td>2</td>\n",
       "      <td>120</td>\n",
       "    </tr>\n",
       "    <tr>\n",
       "      <th>1</th>\n",
       "      <td>102</td>\n",
       "      <td>202</td>\n",
       "      <td>B</td>\n",
       "      <td>3</td>\n",
       "      <td>180</td>\n",
       "    </tr>\n",
       "    <tr>\n",
       "      <th>2</th>\n",
       "      <td>103</td>\n",
       "      <td>203</td>\n",
       "      <td>A</td>\n",
       "      <td>1</td>\n",
       "      <td>60</td>\n",
       "    </tr>\n",
       "    <tr>\n",
       "      <th>3</th>\n",
       "      <td>104</td>\n",
       "      <td>204</td>\n",
       "      <td>C</td>\n",
       "      <td>4</td>\n",
       "      <td>240</td>\n",
       "    </tr>\n",
       "    <tr>\n",
       "      <th>4</th>\n",
       "      <td>105</td>\n",
       "      <td>205</td>\n",
       "      <td>B</td>\n",
       "      <td>2</td>\n",
       "      <td>160</td>\n",
       "    </tr>\n",
       "    <tr>\n",
       "      <th>5</th>\n",
       "      <td>106</td>\n",
       "      <td>206</td>\n",
       "      <td>C</td>\n",
       "      <td>3</td>\n",
       "      <td>270</td>\n",
       "    </tr>\n",
       "    <tr>\n",
       "      <th>6</th>\n",
       "      <td>107</td>\n",
       "      <td>207</td>\n",
       "      <td>A</td>\n",
       "      <td>2</td>\n",
       "      <td>140</td>\n",
       "    </tr>\n",
       "    <tr>\n",
       "      <th>7</th>\n",
       "      <td>108</td>\n",
       "      <td>208</td>\n",
       "      <td>C</td>\n",
       "      <td>5</td>\n",
       "      <td>300</td>\n",
       "    </tr>\n",
       "    <tr>\n",
       "      <th>8</th>\n",
       "      <td>109</td>\n",
       "      <td>209</td>\n",
       "      <td>B</td>\n",
       "      <td>1</td>\n",
       "      <td>90</td>\n",
       "    </tr>\n",
       "    <tr>\n",
       "      <th>9</th>\n",
       "      <td>110</td>\n",
       "      <td>210</td>\n",
       "      <td>A</td>\n",
       "      <td>3</td>\n",
       "      <td>180</td>\n",
       "    </tr>\n",
       "  </tbody>\n",
       "</table>\n",
       "</div>"
      ],
      "text/plain": [
       "   Order_ID  Customer_ID Product  Quantity  Total_Price\n",
       "0       101          201       A         2          120\n",
       "1       102          202       B         3          180\n",
       "2       103          203       A         1           60\n",
       "3       104          204       C         4          240\n",
       "4       105          205       B         2          160\n",
       "5       106          206       C         3          270\n",
       "6       107          207       A         2          140\n",
       "7       108          208       C         5          300\n",
       "8       109          209       B         1           90\n",
       "9       110          210       A         3          180"
      ]
     },
     "execution_count": 11,
     "metadata": {},
     "output_type": "execute_result"
    }
   ],
   "source": [
    "import pandas as pd\n",
    "\n",
    "data4 = {\n",
    "    'Order_ID': [101, 102, 103, 104, 105, 106, 107, 108, 109, 110],\n",
    "    'Customer_ID': [201, 202, 203, 204, 205, 206, 207, 208, 209, 210],\n",
    "    'Product': ['A', 'B', 'A', 'C', 'B', 'C', 'A', 'C', 'B', 'A'],\n",
    "    'Quantity': [2, 3, 1, 4, 2, 3, 2, 5, 1, 3],\n",
    "    'Total_Price': [120, 180, 60, 240, 160, 270, 140, 300, 90, 180]\n",
    "}\n",
    "df4 = pd.DataFrame(data4)\n",
    "df4"
   ]
  },
  {
   "cell_type": "code",
   "execution_count": 12,
   "metadata": {},
   "outputs": [
    {
     "data": {
      "text/plain": [
       "np.int64(1740)"
      ]
     },
     "execution_count": 12,
     "metadata": {},
     "output_type": "execute_result"
    }
   ],
   "source": [
    "#1\n",
    "df_total = df4['Total_Price'].sum()\n",
    "df_total"
   ]
  },
  {
   "cell_type": "code",
   "execution_count": 19,
   "metadata": {},
   "outputs": [
    {
     "data": {
      "text/html": [
       "<div>\n",
       "<style scoped>\n",
       "    .dataframe tbody tr th:only-of-type {\n",
       "        vertical-align: middle;\n",
       "    }\n",
       "\n",
       "    .dataframe tbody tr th {\n",
       "        vertical-align: top;\n",
       "    }\n",
       "\n",
       "    .dataframe thead th {\n",
       "        text-align: right;\n",
       "    }\n",
       "</style>\n",
       "<table border=\"1\" class=\"dataframe\">\n",
       "  <thead>\n",
       "    <tr style=\"text-align: right;\">\n",
       "      <th></th>\n",
       "      <th>Quantity</th>\n",
       "    </tr>\n",
       "    <tr>\n",
       "      <th>Product</th>\n",
       "      <th></th>\n",
       "    </tr>\n",
       "  </thead>\n",
       "  <tbody>\n",
       "    <tr>\n",
       "      <th>C</th>\n",
       "      <td>12</td>\n",
       "    </tr>\n",
       "  </tbody>\n",
       "</table>\n",
       "</div>"
      ],
      "text/plain": [
       "         Quantity\n",
       "Product          \n",
       "C              12"
      ]
     },
     "execution_count": 19,
     "metadata": {},
     "output_type": "execute_result"
    }
   ],
   "source": [
    "#2\n",
    "x = df4.groupby('Product').agg(Quantity = ('Quantity','sum'))\n",
    "y = x.sort_values(by='Quantity', ascending=False).head(1)\n",
    "y\n"
   ]
  },
  {
   "cell_type": "code",
   "execution_count": 22,
   "metadata": {},
   "outputs": [
    {
     "data": {
      "text/plain": [
       "np.float64(2.6)"
      ]
     },
     "execution_count": 22,
     "metadata": {},
     "output_type": "execute_result"
    }
   ],
   "source": [
    "#3\n",
    "x = len(df4['Order_ID'])\n",
    "s = df4['Quantity'].sum()\n",
    "average = s/x\n",
    "average"
   ]
  },
  {
   "cell_type": "code",
   "execution_count": 25,
   "metadata": {},
   "outputs": [
    {
     "data": {
      "image/png": "[encoded data removed]",
      "text/plain": [
       "<Figure size 640x480 with 1 Axes>"
      ]
     },
     "metadata": {},
     "output_type": "display_data"
    }
   ],
   "source": [
    "#4\n",
    "product_sales = df4.groupby('Product')['Total_Price'].agg('sum')\n",
    "plt.pie(product_sales, labels=product_sales.index, colors=['skyblue', 'lightcoral', 'lightgreen'])\n",
    "plt.show()"
   ]
  }
 ],
 "metadata": {
  "kernelspec": {
   "display_name": "Python 3",
   "language": "python",
   "name": "python3"
  },
  "language_info": {
   "codemirror_mode": {
    "name": "ipython",
    "version": 3
   },
   "file_extension": ".py",
   "mimetype": "text/x-python",
   "name": "python",
   "nbconvert_exporter": "python",
   "pygments_lexer": "ipython3",
   "version": "3.12.6"
  }
 },
 "nbformat": 4,
 "nbformat_minor": 2
}
